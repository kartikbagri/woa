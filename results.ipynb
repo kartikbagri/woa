{
 "cells": [
  {
   "cell_type": "code",
   "execution_count": 98,
   "metadata": {},
   "outputs": [],
   "source": [
    "import numpy as np\n",
    "import pandas as pd\n",
    "import os\n",
    "import opfunu"
   ]
  },
  {
   "cell_type": "code",
   "execution_count": 17,
   "metadata": {},
   "outputs": [],
   "source": [
    "benchmark_dict = {\n",
    "  2014: range(1, 31),\n",
    "  2017: range(1, 30),\n",
    "}"
   ]
  },
  {
   "cell_type": "code",
   "execution_count": 126,
   "metadata": {},
   "outputs": [],
   "source": [
    "def final_result(model_name):\n",
    "  WOAResults = {}\n",
    "  for year in [2014, 2017]:\n",
    "    for func_num in benchmark_dict[year]:\n",
    "      func_map_key_name = f'F{func_num}{year}'\n",
    "      WOAResults[func_map_key_name] = {}\n",
    "      for dimension in [10, 30, 50, 100]:\n",
    "        WOAResults[func_map_key_name][dimension] = {}\n",
    "        for pop_size in [10, 20, 30, 40, 50, 70, 100, 200, 300, 400, 500, 700, 1000]:\n",
    "          run_result = np.array([])\n",
    "          for _ in range(1, 52):\n",
    "            func_name = f'opfunu.cec_based.F42014(ndim={dimension})'\n",
    "            problem = eval(func_name)\n",
    "            problem_dict = {\n",
    "              \"fit_func\": problem.evaluate,\n",
    "              \"lb\": problem.lb,\n",
    "              \"ub\": problem.ub,\n",
    "              \"minmax\": \"min\",\n",
    "            }\n",
    "            epoch = 10000\n",
    "            pop_size = pop_size\n",
    "            model = model_name(epoch, pop_size)\n",
    "            max_fe = 10000 * dimension\n",
    "            term_dict = {\n",
    "              \"max_fe\": max_fe\n",
    "            }\n",
    "            best_position, best_fitness = model.solve(problem_dict, termination=term_dict)\n",
    "            run_result = np.append(run_result, best_fitness)\n",
    "          WOAResults[func_map_key_name][dimension][pop_size] = np.mean(run_result)\n",
    "  for key in WOAResults.keys():\n",
    "    df = pd.DataFrame(WOAResults[key])\n",
    "    directory_path = f'./results/{model.name}'\n",
    "    if not os.path.exists(directory_path):\n",
    "      os.makedirs(directory_path)\n",
    "    df.to_csv(f'{directory_path}/{key}.csv', index = True)"
   ]
  },
  {
   "cell_type": "markdown",
   "metadata": {},
   "source": [
    "# Original Whale Optimisation Algorithm"
   ]
  },
  {
   "cell_type": "code",
   "execution_count": 127,
   "metadata": {},
   "outputs": [],
   "source": [
    "from mealpy.swarm_based.WOA import OriginalWOA\n",
    "final_result(OriginalWOA)"
   ]
  },
  {
   "cell_type": "markdown",
   "metadata": {},
   "source": [
    "# Hybrid Improved Whale Optimization Algorithm"
   ]
  },
  {
   "cell_type": "code",
   "execution_count": 121,
   "metadata": {},
   "outputs": [],
   "source": [
    "from mealpy.swarm_based.WOA import HI_WOA\n",
    "final_result(HI_WOA)"
   ]
  },
  {
   "cell_type": "code",
   "execution_count": null,
   "metadata": {},
   "outputs": [],
   "source": []
  }
 ],
 "metadata": {
  "kernelspec": {
   "display_name": "Python 3",
   "language": "python",
   "name": "python3"
  },
  "language_info": {
   "codemirror_mode": {
    "name": "ipython",
    "version": 3
   },
   "file_extension": ".py",
   "mimetype": "text/x-python",
   "name": "python",
   "nbconvert_exporter": "python",
   "pygments_lexer": "ipython3",
   "version": "3.11.4"
  },
  "orig_nbformat": 4
 },
 "nbformat": 4,
 "nbformat_minor": 2
}
